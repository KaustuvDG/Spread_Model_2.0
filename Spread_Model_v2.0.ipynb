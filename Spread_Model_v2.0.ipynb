{
 "cells": [
  {
   "cell_type": "code",
   "execution_count": 1,
   "metadata": {},
   "outputs": [
    {
     "name": "stderr",
     "output_type": "stream",
     "text": [
      "C:\\Users\\Home\\Documents\\Python\\Anaconda3\\lib\\site-packages\\statsmodels\\compat\\pandas.py:56: FutureWarning: The pandas.core.datetools module is deprecated and will be removed in a future version. Please use the pandas.tseries module instead.\n",
      "  from pandas.core import datetools\n"
     ]
    }
   ],
   "source": [
    "#importing various packages that we will use\n",
    "import pandas as pd\n",
    "import numpy as np\n",
    "import os\n",
    "import statsmodels.formula.api as smf\n",
    "import statsmodels.api as sm\n",
    "import pdb\n",
    "import matplotlib.pyplot as plt\n",
    "\n",
    "param = {'duration': {'x_SPX': 0, 'x_Oil': 0, 'x_EM_Equity': 0,'x_UST_10Y': 9.25,'x_VIX': 0, 'y_EM_Spread': 5},\n",
    "         'carry': {'x_SPX': 1.9, 'x_Oil': 0, 'x_EM_Equity': 1.5,'x_UST_10Y': 3.0,'x_VIX': 0, 'y_EM_Spread': 5.2}}"
   ]
  },
  {
   "cell_type": "code",
   "execution_count": 7,
   "metadata": {
    "collapsed": true
   },
   "outputs": [],
   "source": [
    "def read_data(fl_name = 'Spread_Model_Sample_Data.csv'): #setting default filename to be used unless specified\n",
    "    test_dir = r'C:\\Users\\Home\\Documents\\Models\\Spread_Forecast' \n",
    "    fl = os.path.join(test_dir, fl_name) #joining directory and filename\n",
    "    df = pd.read_csv(fl, header = 0, parse_dates = True) #reading csv file from source into a dataframe\n",
    "    \n",
    "    df.columns = ['Date','x_SPX', 'x_Oil', 'x_EM_Equity','x_UST_10Y','x_VIX', 'y_EM_Spread'] # setting column names for df\n",
    "    df.loc[:, 'Date'] = pd.to_datetime(df['Date']) #converting date into datetime format for pandas\n",
    "    df.loc[:, 'x_SPX'] = df['x_SPX'].astype('int64')\n",
    "    cols = [col for col in df.columns if '_' in col]\n",
    "    for col in df[cols]:\n",
    "        df.loc[:, col + '_chg'] = df[col].diff(1)\n",
    "    \n",
    "    df1 = daily_total_return(df, cols)\n",
    "        \n",
    "    print (df1.info())\n",
    "    return df1\n",
    "\n",
    "def daily_total_return(df, cols):\n",
    "    for col in df[cols]:\n",
    "        df.loc[:, col + '_carry_rtn'] = param['carry'][col] / 100 / 360 #Daily Carry\n",
    "        duration = param['duration'][col]\n",
    "        if duration == 0:\n",
    "            df.loc[:, col + '_price_rtn'] = df[col].pct_change() #Pct Change for price based inputs\n",
    "        if duration != 0:\n",
    "            df.loc[:, col + '_price_rtn'] = df[col].diff(1) * -1 * duration / 10000 #Spread in bp * Duration converted to a %age of 1\n",
    "        df.loc[:, col + '_total_rtn'] = df.loc[:, col + '_carry_rtn'] + df.loc[:, col + '_price_rtn'] # Total Return = Carry + Px Return\n",
    "    \n",
    "    return df"
   ]
  },
  {
   "cell_type": "code",
   "execution_count": 17,
   "metadata": {
    "collapsed": true
   },
   "outputs": [],
   "source": [
    "def reg_m(df, typ = 'chg'):\n",
    "    f = formula_create(df, typ)\n",
    "    if typ == 'abs':\n",
    "        results = smf.ols(formula='y_EM_Spread ~ x_Oil + x_EM_Equity + x_SPX + x_UST_10Y + x_VIX', data=df).fit()\n",
    "        df['y_EM_Spread_pred'] = results.fittedvalues\n",
    "        df['y_EM_Spread_resid'] = results.resid\n",
    "        df.loc[:, 'y_EM_Spread_resid'] = round(df['y_EM_Spread_resid'] / df['y_EM_Spread'] * 100, 0)\n",
    "        \n",
    "    elif typ == 'chg':\n",
    "        results = smf.ols(formula='y_EM_Spread_chg ~ x_Oil_chg + x_EM_Equity_chg + x_SPX_chg + x_UST_10Y_chg + x_VIX_chg', data=df).fit()\n",
    "        df['y_EM_Spread_pred'] = results.fittedvalues\n",
    "        df['y_EM_Spread_resid'] = results.resid\n",
    "        df.loc[:, 'y_EM_Spread_resid'] = round(df['y_EM_Spread_resid'] / df['y_EM_Spread_chg'] * 100, 0)\n",
    "        \n",
    "    else:\n",
    "        print ('No Type specified')\n",
    "        exit()\n",
    "    plot_reg(results, df, typ)\n",
    "    print (results.summary())\n",
    "    return results, df\n",
    "\n",
    "def formula_create(df, typ):\n",
    "    if typ == 'chg':\n",
    "        cols_x = [col for col in df.columns if ('_chg' in col) & ('x_' in col)]\n",
    "        cols_y = [col for col in df.columns if ('_chg' in col) & ('y_' in col)]\n",
    "        formula_text = '{} ~ {}'.format(cols_y, ' + '.join(cols_x))\n",
    "        \n",
    "    elif typ == 'total_rtn':\n",
    "        cols_x = [col for col in df.columns if ('_total_rtn' in col) & ('x_' in col)]\n",
    "        cols_y = [col for col in df.columns if ('_total_rtn' in col) & ('y_' in col)]\n",
    "        formula_text = '{} ~ {}'.format(cols_y, ' + '.join(cols_x))\n",
    "        \n",
    "    elif typ == 'abs':\n",
    "        cols = [col for col in df.columns if ('_total_rtn' in col) & ('_chg' in col)]\n",
    "        cols_x = [col for col in df.columns if 'x_' in col]\n",
    "        cols_y = [col for col in df.columns if 'y_' in col]\n",
    "        formula_text = '{} ~ {}'.format(cols_y, ' + '.join(cols_x))\n",
    "    \n",
    "    print (cols_x, /n, cols_y, /n, /n, formula_text)\n",
    "    pdb.set_trace()\n",
    "    return formula_text"
   ]
  },
  {
   "cell_type": "code",
   "execution_count": 18,
   "metadata": {
    "collapsed": true
   },
   "outputs": [],
   "source": [
    "def plot_reg(results, df, typ):\n",
    "#     cell_text = []\n",
    "#     cell_text.append([results.params])\n",
    "    \n",
    "    fig, ax = plt.subplots(figsize=(20, 10))\n",
    "    if typ == 'abs':\n",
    "        ax.plot(df['Date'], df['y_EM_Spread'], color='g', label = 'EM Spread', linewidth = 0.6)\n",
    "        ax.set_ylabel(\"y_EM_Spread\", fontsize=16, weight='bold', va='top')\n",
    "    elif typ == 'chg':\n",
    "        ax.plot(df['Date'], df['y_EM_Spread_chg'], color='g', label = 'EM Spread Change', linewidth = 0.6)\n",
    "        ax.set_ylabel(\"y_EM_Spread_chg\", fontsize=16, weight='bold', va='top')\n",
    "    ax.plot(df['Date'], df['y_EM_Spread_pred'], color='orange', label = 'EM Spread Predict', linewidth = 1)\n",
    "    \n",
    "    ax.set_xlabel(\"Date\", fontsize=16, weight='bold', va='top')\n",
    "    ax.set_title(\"Linear Regression\", fontsize=16, weight='bold', va='top')\n",
    "    \n",
    "    ax2 = ax.twinx()  # instantiate a second axes that shares the same x-axis    \n",
    "    ax2.plot(df['Date'], df['y_EM_Spread_resid'], color='red', label = 'Residuals', linewidth= 0.2, ls = 'dashed')\n",
    "    ax2.set_ylabel('Residual as %age of Spread', fontsize=16, weight='bold', va='top')\n",
    "    \n",
    "    ax.legend(loc='upper left')\n",
    "    f = 'R Squared = ' + str(round(results.rsquared,3))\n",
    "    ax.text(0.8, 0.95, f, horizontalalignment='center', verticalalignment='center',\n",
    "            fontsize=16, weight='bold', va='top', transform=ax.transAxes)\n",
    "    plt.show()\n",
    "    print (results.params)"
   ]
  },
  {
   "cell_type": "code",
   "execution_count": null,
   "metadata": {},
   "outputs": [
    {
     "name": "stdout",
     "output_type": "stream",
     "text": [
      "<class 'pandas.core.frame.DataFrame'>\n",
      "RangeIndex: 5176 entries, 0 to 5175\n",
      "Data columns (total 31 columns):\n",
      "Date                     5176 non-null datetime64[ns]\n",
      "x_SPX                    5176 non-null int64\n",
      "x_Oil                    5176 non-null float64\n",
      "x_EM_Equity              5176 non-null float64\n",
      "x_UST_10Y                5176 non-null float64\n",
      "x_VIX                    5176 non-null float64\n",
      "y_EM_Spread              5176 non-null int64\n",
      "x_SPX_chg                5175 non-null float64\n",
      "x_Oil_chg                5175 non-null float64\n",
      "x_EM_Equity_chg          5175 non-null float64\n",
      "x_UST_10Y_chg            5175 non-null float64\n",
      "x_VIX_chg                5175 non-null float64\n",
      "y_EM_Spread_chg          5175 non-null float64\n",
      "x_SPX_carry_rtn          5176 non-null float64\n",
      "x_SPX_price_rtn          5175 non-null float64\n",
      "x_SPX_total_rtn          5175 non-null float64\n",
      "x_Oil_carry_rtn          5176 non-null float64\n",
      "x_Oil_price_rtn          5175 non-null float64\n",
      "x_Oil_total_rtn          5175 non-null float64\n",
      "x_EM_Equity_carry_rtn    5176 non-null float64\n",
      "x_EM_Equity_price_rtn    5175 non-null float64\n",
      "x_EM_Equity_total_rtn    5175 non-null float64\n",
      "x_UST_10Y_carry_rtn      5176 non-null float64\n",
      "x_UST_10Y_price_rtn      5175 non-null float64\n",
      "x_UST_10Y_total_rtn      5175 non-null float64\n",
      "x_VIX_carry_rtn          5176 non-null float64\n",
      "x_VIX_price_rtn          5175 non-null float64\n",
      "x_VIX_total_rtn          5175 non-null float64\n",
      "y_EM_Spread_carry_rtn    5176 non-null float64\n",
      "y_EM_Spread_price_rtn    5175 non-null float64\n",
      "y_EM_Spread_total_rtn    5175 non-null float64\n",
      "dtypes: datetime64[ns](1), float64(28), int64(2)\n",
      "memory usage: 1.2 MB\n",
      "None\n",
      "['x_SPX_chg', 'x_Oil_chg', 'x_EM_Equity_chg', 'x_UST_10Y_chg', 'x_VIX_chg'] /n ['x_EM_Equity_chg', 'y_EM_Spread_chg'] /n/n ['x_EM_Equity_chg', 'y_EM_Spread_chg'] ~ x_SPX_chg + x_Oil_chg + x_EM_Equity_chg + x_UST_10Y_chg + x_VIX_chg\n",
      "> <ipython-input-17-6f13137a1a31>(41)formula_create()\n",
      "-> return formula_text\n"
     ]
    }
   ],
   "source": [
    "df = read_data()\n",
    "res, df = reg_m(df, 'chg')"
   ]
  },
  {
   "cell_type": "code",
   "execution_count": 11,
   "metadata": {},
   "outputs": [
    {
     "name": "stdout",
     "output_type": "stream",
     "text": [
      "0.20.1\n"
     ]
    }
   ],
   "source": [
    "print (pd.__version__)"
   ]
  },
  {
   "cell_type": "code",
   "execution_count": null,
   "metadata": {
    "collapsed": true
   },
   "outputs": [],
   "source": []
  },
  {
   "cell_type": "code",
   "execution_count": null,
   "metadata": {
    "collapsed": true
   },
   "outputs": [],
   "source": []
  }
 ],
 "metadata": {
  "kernelspec": {
   "display_name": "Python 3",
   "language": "python",
   "name": "python3"
  },
  "language_info": {
   "codemirror_mode": {
    "name": "ipython",
    "version": 3
   },
   "file_extension": ".py",
   "mimetype": "text/x-python",
   "name": "python",
   "nbconvert_exporter": "python",
   "pygments_lexer": "ipython3",
   "version": "3.7.0"
  }
 },
 "nbformat": 4,
 "nbformat_minor": 2
}
